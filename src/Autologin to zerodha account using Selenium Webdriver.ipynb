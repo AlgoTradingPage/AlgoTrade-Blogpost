{
 "cells": [
  {
   "cell_type": "markdown",
   "id": "da5c1077",
   "metadata": {},
   "source": [
    "# Autologin to your Zerodha account using Selenium Webdriver"
   ]
  },
  {
   "cell_type": "markdown",
   "id": "86b00f45",
   "metadata": {},
   "source": [
    "## Import necessary libraries"
   ]
  },
  {
   "cell_type": "code",
   "execution_count": null,
   "id": "304e89a5",
   "metadata": {},
   "outputs": [],
   "source": [
    "from selenium import webdriver\n",
    "from time import sleep\n",
    "from pyotp import TOTP\n",
    "import json"
   ]
  },
  {
   "cell_type": "markdown",
   "id": "207cdccb",
   "metadata": {},
   "source": [
    "## Save login credentials in variables"
   ]
  },
  {
   "cell_type": "code",
   "execution_count": null,
   "id": "b1359a30",
   "metadata": {},
   "outputs": [],
   "source": [
    "with open('zerodha_credentials.json','r') as file:\n",
    "    login = json.load(file)\n",
    "\n",
    "username       = login['user_id']\n",
    "password       = login['password']\n",
    "totp           = login['totp']\n",
    "webdriver_path = login['webdriver_path'] #path of your chromedriver\n",
    "url            = login['url']"
   ]
  },
  {
   "cell_type": "markdown",
   "id": "5de46ee0",
   "metadata": {},
   "source": [
    "## Open zerodha Login page through in Chrome browser"
   ]
  },
  {
   "cell_type": "code",
   "execution_count": null,
   "id": "8390a44b",
   "metadata": {},
   "outputs": [],
   "source": [
    "service = webdriver.chrome.service.Service(f'{webdriver_path}/chromedriver.exe')\n",
    "service.start() \n",
    "\n",
    "options = webdriver.ChromeOptions()\n",
    "options = options.to_capabilities()\n",
    "\n",
    "driver  = webdriver.Remote(service.service_url, options)\n",
    "driver.get(url)\n",
    "driver.maximize_window()"
   ]
  },
  {
   "cell_type": "markdown",
   "id": "4fb9a28e",
   "metadata": {},
   "source": [
    "## Autologin with your credentials using selenium webdriver"
   ]
  },
  {
   "cell_type": "code",
   "execution_count": null,
   "id": "30ceab17",
   "metadata": {},
   "outputs": [],
   "source": [
    "#input username\n",
    "user = driver.find_element_by_xpath(\"//input[@type = 'text']\")\n",
    "user.send_keys(username)\n",
    "\n",
    "#input password\n",
    "pwd = driver.find_element_by_xpath(\"//input[@type = 'password']\")\n",
    "pwd.send_keys(password)\n",
    "\n",
    "#click on login\n",
    "driver.find_element_by_xpath(\"//button[@type='submit']\").click()\n",
    "\n",
    "sleep(1)\n",
    "\n",
    "#input totp\n",
    "ztotp      = driver.find_element_by_xpath(\"//input[@type = 'text']\")\n",
    "totp_token = TOTP(totp)\n",
    "token      = totp_token.now()\n",
    "ztotp.send_keys(token)\n",
    "\n",
    "#click on continue\n",
    "driver.find_element_by_xpath(\"//button[@type = 'submit']\").click()"
   ]
  }
 ],
 "metadata": {
  "kernelspec": {
   "display_name": "algo",
   "language": "python",
   "name": "algo"
  },
  "language_info": {
   "codemirror_mode": {
    "name": "ipython",
    "version": 3
   },
   "file_extension": ".py",
   "mimetype": "text/x-python",
   "name": "python",
   "nbconvert_exporter": "python",
   "pygments_lexer": "ipython3",
   "version": "3.9.13"
  }
 },
 "nbformat": 4,
 "nbformat_minor": 5
}

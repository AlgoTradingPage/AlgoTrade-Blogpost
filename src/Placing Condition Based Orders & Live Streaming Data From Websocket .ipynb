{
 "cells": [
  {
   "cell_type": "markdown",
   "id": "9a91fb54",
   "metadata": {},
   "source": [
    "## Placing automated orders in AlgoTading & fetching live streaming stock market data"
   ]
  },
  {
   "cell_type": "markdown",
   "id": "0fd04ecb",
   "metadata": {},
   "source": [
    "This notebook tells how to establish connection between python & zerodha, how to fetch real time streaming data and most importantly how to place orders to buy/sell stocks based on time & price"
   ]
  },
  {
   "cell_type": "markdown",
   "id": "6f2c63f0",
   "metadata": {},
   "source": [
    "1. Generating Request & Access tokens\n",
    "\n",
    "2. Fetching Last Traded Price (ltp)\n",
    "\n",
    "3. Fetching Interval High Price & Interval Low Price\n",
    "\n",
    "4. Fetching live streaming tick level data using Websocket\n",
    "\n",
    "5. Placing Orders based on Price\n",
    "\n",
    "6. Placing Orders based on Time"
   ]
  },
  {
   "cell_type": "markdown",
   "id": "bf5e3d20",
   "metadata": {},
   "source": [
    "## 1.  Generating Request & Access tokens."
   ]
  },
  {
   "cell_type": "code",
   "execution_count": 1,
   "id": "f5f684f7",
   "metadata": {},
   "outputs": [],
   "source": [
    "from selenium import webdriver\n",
    "from time import sleep\n",
    "from kiteconnect import KiteConnect\n",
    "from kiteconnect import KiteTicker\n",
    "from pyotp import TOTP\n",
    "\n",
    "import json\n",
    "import time\n",
    "import datetime\n",
    "import pandas as pd"
   ]
  },
  {
   "cell_type": "code",
   "execution_count": 2,
   "id": "4b072361",
   "metadata": {},
   "outputs": [],
   "source": [
    "with open('credentials_zerodha.json','r') as file:\n",
    "    login = json.load(file)\n",
    "\n",
    "username       = login['user_id']\n",
    "password       = login['password']\n",
    "totp           = login['totp']\n",
    "webdriver_path = login['webdriver_path'] #path of your chromedriver\n",
    "api_key        = login['api_key']\n",
    "api_secret     = login['api_secret']"
   ]
  },
  {
   "cell_type": "markdown",
   "id": "b5248068",
   "metadata": {},
   "source": [
    "#### Open Zerodha login page using selenium webdriver "
   ]
  },
  {
   "cell_type": "code",
   "execution_count": 8,
   "id": "edb7c6a1",
   "metadata": {},
   "outputs": [
    {
     "name": "stderr",
     "output_type": "stream",
     "text": [
      "C:\\Users\\ganesh\\AppData\\Local\\Temp/ipykernel_636/2650630266.py:15: DeprecationWarning: desired_capabilities has been deprecated, please pass in an Options object with options kwarg\n",
      "  driver  = webdriver.Remote(service.service_url, options)\n"
     ]
    }
   ],
   "source": [
    "# launch chrome and open zerodha website\n",
    "\n",
    "kite = KiteConnect(api_key)\n",
    "\n",
    "service = webdriver.chrome.service.Service('./chromedriver.exe')\n",
    "service.start() \n",
    "\n",
    "options = webdriver.ChromeOptions()\n",
    "options = options.to_capabilities()\n",
    "\n",
    "driver  = webdriver.Remote(service.service_url, options)\n",
    "driver.get(kite.login_url())\n",
    "driver.maximize_window()"
   ]
  },
  {
   "cell_type": "markdown",
   "id": "f6925915",
   "metadata": {},
   "source": [
    "#### Login using credentials"
   ]
  },
  {
   "cell_type": "code",
   "execution_count": 9,
   "id": "19c3361e",
   "metadata": {
    "collapsed": true
   },
   "outputs": [
    {
     "name": "stderr",
     "output_type": "stream",
     "text": [
      "C:\\Users\\ganesh\\AppData\\Local\\Temp/ipykernel_636/3302311798.py:2: DeprecationWarning: find_element_by_xpath is deprecated. Please use find_element(by=By.XPATH, value=xpath) instead\n",
      "  user = driver.find_element_by_xpath(\"//input[@type = 'text']\")\n",
      "C:\\Users\\ganesh\\AppData\\Local\\Temp/ipykernel_636/3302311798.py:6: DeprecationWarning: find_element_by_xpath is deprecated. Please use find_element(by=By.XPATH, value=xpath) instead\n",
      "  pwd = driver.find_element_by_xpath(\"//input[@type = 'password']\")\n",
      "C:\\Users\\ganesh\\AppData\\Local\\Temp/ipykernel_636/3302311798.py:10: DeprecationWarning: find_element_by_xpath is deprecated. Please use find_element(by=By.XPATH, value=xpath) instead\n",
      "  driver.find_element_by_xpath(\"//button[@type='submit']\").click()\n",
      "C:\\Users\\ganesh\\AppData\\Local\\Temp/ipykernel_636/3302311798.py:15: DeprecationWarning: find_element_by_xpath is deprecated. Please use find_element(by=By.XPATH, value=xpath) instead\n",
      "  ztotp      = driver.find_element_by_xpath(\"//input[@type = 'text']\")\n",
      "C:\\Users\\ganesh\\AppData\\Local\\Temp/ipykernel_636/3302311798.py:21: DeprecationWarning: find_element_by_xpath is deprecated. Please use find_element(by=By.XPATH, value=xpath) instead\n",
      "  driver.find_element_by_xpath(\"//button[@type = 'submit']\").click()\n"
     ]
    }
   ],
   "source": [
    "#input username\n",
    "user = driver.find_element_by_xpath(\"//input[@type = 'text']\")\n",
    "user.send_keys(username)\n",
    "\n",
    "#input password\n",
    "pwd = driver.find_element_by_xpath(\"//input[@type = 'password']\")\n",
    "pwd.send_keys(password)\n",
    "\n",
    "#click on login\n",
    "driver.find_element_by_xpath(\"//button[@type='submit']\").click()\n",
    "\n",
    "sleep(1)\n",
    "\n",
    "#input totp\n",
    "ztotp      = driver.find_element_by_xpath(\"//input[@type = 'text']\")\n",
    "totp_token = TOTP(totp)\n",
    "token      = totp_token.now()\n",
    "ztotp.send_keys(token)\n",
    "\n",
    "#click on continue\n",
    "driver.find_element_by_xpath(\"//button[@type = 'submit']\").click()"
   ]
  },
  {
   "cell_type": "markdown",
   "id": "b6983bfa",
   "metadata": {},
   "source": [
    "#### Get Request & Access token"
   ]
  },
  {
   "cell_type": "code",
   "execution_count": 11,
   "id": "ca245b52",
   "metadata": {},
   "outputs": [],
   "source": [
    "sleep(2)\n",
    "\n",
    "#request token\n",
    "request_token = driver.current_url.split('request_token=')[1].split('&')[0]\n",
    "\n",
    "#access token\n",
    "token = kite.generate_session(request_token, api_secret=api_secret)\n",
    "access_token = token['access_token']\n",
    "\n",
    "#connect python with Kite API\n",
    "kite.set_access_token(access_token)\n",
    "\n",
    "#closing chrome\n",
    "driver.quit()"
   ]
  },
  {
   "cell_type": "markdown",
   "id": "3e905d5d",
   "metadata": {},
   "source": [
    "## 2. Fetching the Last Traded Price (ltp)\n",
    "\n",
    "LTP is Last Traded Price i.e. most recent price of any stock.\n",
    "\n",
    "#### a. LTP through Kite Connect API"
   ]
  },
  {
   "cell_type": "code",
   "execution_count": 13,
   "id": "7bf60507",
   "metadata": {},
   "outputs": [],
   "source": [
    "kite.set_access_token(access_token)"
   ]
  },
  {
   "cell_type": "code",
   "execution_count": 14,
   "id": "d80afff0",
   "metadata": {},
   "outputs": [
    {
     "data": {
      "text/plain": [
       "1472"
      ]
     },
     "execution_count": 14,
     "metadata": {},
     "output_type": "execute_result"
    }
   ],
   "source": [
    "ticker = \"NSE:INFY\"\n",
    "kite.ltp(ticker)[ticker][\"last_price\"]"
   ]
  },
  {
   "cell_type": "code",
   "execution_count": 16,
   "id": "c1966b1e",
   "metadata": {},
   "outputs": [
    {
     "data": {
      "text/plain": [
       "33281.65"
      ]
     },
     "execution_count": 16,
     "metadata": {},
     "output_type": "execute_result"
    }
   ],
   "source": [
    "ticker = \"NFO:BANKNIFTY22JUNFUT\"\n",
    "kite.ltp(ticker)[ticker][\"last_price\"]"
   ]
  },
  {
   "cell_type": "markdown",
   "id": "4c1645c4",
   "metadata": {},
   "source": [
    "#### b. LTP through 'pynse' library"
   ]
  },
  {
   "cell_type": "code",
   "execution_count": 19,
   "id": "50862ceb",
   "metadata": {},
   "outputs": [
    {
     "data": {
      "text/plain": [
       "1472.5"
      ]
     },
     "execution_count": 19,
     "metadata": {},
     "output_type": "execute_result"
    }
   ],
   "source": [
    "from pynse import *\n",
    "\n",
    "nse = Nse()            #create an nse object\n",
    "\n",
    "nse.get_quote(\"INFY\")[\"lastPrice\"]"
   ]
  },
  {
   "cell_type": "code",
   "execution_count": 18,
   "id": "4739c559",
   "metadata": {},
   "outputs": [
    {
     "data": {
      "text/plain": [
       "33285.7"
      ]
     },
     "execution_count": 18,
     "metadata": {},
     "output_type": "execute_result"
    }
   ],
   "source": [
    "quote = nse.get_quote(\"BANKNIFTY\",Segment.FUT)\n",
    "quote[\"lastPrice\"]"
   ]
  },
  {
   "cell_type": "markdown",
   "id": "87787f42",
   "metadata": {},
   "source": [
    "## 3. Fetching Interval High Price & Interval Low Price\n",
    "\n",
    "Interval High & Low are the highest & lowest price of any stock in a particular interval. Interval high/low plays an important role in algorithmic trading. Many strategies are based on this high / low factor."
   ]
  },
  {
   "cell_type": "markdown",
   "id": "6c3c1e71",
   "metadata": {},
   "source": [
    "#### a. Interval High/Low through Kite"
   ]
  },
  {
   "cell_type": "code",
   "execution_count": 26,
   "id": "2953ca19",
   "metadata": {},
   "outputs": [
    {
     "name": "stdout",
     "output_type": "stream",
     "text": [
      "interval high for NSE:INFY = 1474.3\n",
      "interval low for NSE:INFY = 1457\n"
     ]
    }
   ],
   "source": [
    "ticker = \"NSE:INFY\"\n",
    "\n",
    "interval_high = kite.quote(ticker)[ticker]['ohlc']['high']\n",
    "print(f'interval high for {ticker} =',interval_high)\n",
    "\n",
    "interval_low  = kite.quote(ticker)[ticker]['ohlc']['low']\n",
    "print(f'interval low for {ticker} =',interval_low)"
   ]
  },
  {
   "cell_type": "markdown",
   "id": "2b73a0cf",
   "metadata": {},
   "source": [
    "#### b. Interval High/Low through pynse library"
   ]
  },
  {
   "cell_type": "code",
   "execution_count": 28,
   "id": "4f27e688",
   "metadata": {},
   "outputs": [
    {
     "name": "stdout",
     "output_type": "stream",
     "text": [
      "interval high = 1474.3\n",
      "interval low = 1457\n"
     ]
    }
   ],
   "source": [
    "from pynse import *\n",
    "\n",
    "quote = nse.get_quote('INFY')\n",
    "\n",
    "interval_high = quote['high']\n",
    "print('interval high =', interval_high)\n",
    "\n",
    "interval_low = quote['low']\n",
    "print('interval low =',interval_low)"
   ]
  },
  {
   "cell_type": "markdown",
   "id": "c0dd51f4",
   "metadata": {},
   "source": [
    "## 4. Tick level data through Websocket API\n",
    "\n",
    "WebSocket API is the most efficient (speed, latency, resource consumption, and bandwidth) way to receive real time quotes for instruments across all exchanges during live market hours. A quote consists of fields such as open, high, low, close, ltp, etc."
   ]
  },
  {
   "cell_type": "code",
   "execution_count": 31,
   "id": "cda84fb1",
   "metadata": {},
   "outputs": [],
   "source": [
    "tokens = [738561, 5633] #token numbers of instruments\n",
    "\n",
    "def on_ticks(ws, ticks):\n",
    "    print(ticks)\n",
    "\n",
    "def on_connect(ws, response):\n",
    "    # Subscribe to a list of instrument_tokens \n",
    "    ws.subscribe(tokens)\n",
    "    ws.set_mode(ws.MODE_FULL, [tokens[0]])"
   ]
  },
  {
   "cell_type": "markdown",
   "id": "d5155a5f",
   "metadata": {},
   "source": [
    "NOTE :\n",
    "\n",
    "1. The token numbers that are being passed into the on_connect() function must be in a list. Even if it is subscribing to only a single instrument.\n",
    "\n",
    "2. In on_connect() function, mode can be set to ws.MODE_LTP which will only fetch ltp or ws.MODE_QUOTE which will fetch open, high, low, close, volume. Here we set ws.MODE_FULL which will fetch every detail of instrument."
   ]
  },
  {
   "cell_type": "code",
   "execution_count": 34,
   "id": "b6d6edbe",
   "metadata": {
    "collapsed": true
   },
   "outputs": [
    {
     "name": "stdout",
     "output_type": "stream",
     "text": [
      "[{'tradable': True, 'mode': 'full', 'instrument_token': 738561, 'last_price': 2561.45, 'last_traded_quantity': 9, 'average_traded_price': 2533.71, 'volume_traded': 3856865, 'total_buy_quantity': 308327, 'total_sell_quantity': 300908, 'ohlc': {'open': 2507.2, 'high': 2563.95, 'low': 2501.0, 'close': 2527.7}, 'change': 1.3352059184238636, 'last_trade_time': datetime.datetime(2022, 6, 29, 11, 50, 54), 'oi': 0, 'oi_day_high': 0, 'oi_day_low': 0, 'exchange_timestamp': datetime.datetime(2022, 6, 29, 11, 50, 54), 'depth': {'buy': [{'quantity': 19, 'price': 2560.9, 'orders': 1}, {'quantity': 1, 'price': 2560.85, 'orders': 1}, {'quantity': 60, 'price': 2560.8, 'orders': 2}, {'quantity': 89, 'price': 2560.75, 'orders': 3}, {'quantity': 59, 'price': 2560.7, 'orders': 1}], 'sell': [{'quantity': 115, 'price': 2561.9, 'orders': 2}, {'quantity': 2, 'price': 2561.95, 'orders': 2}, {'quantity': 996, 'price': 2562.0, 'orders': 6}, {'quantity': 4, 'price': 2562.15, 'orders': 1}, {'quantity': 119, 'price': 2562.2, 'orders': 2}]}}, {'tradable': True, 'mode': 'quote', 'instrument_token': 5633, 'last_price': 2141.5, 'last_traded_quantity': 9, 'average_traded_price': 2139.31, 'volume_traded': 241644, 'total_buy_quantity': 60921, 'total_sell_quantity': 47804, 'ohlc': {'open': 2118.0, 'high': 2148.1, 'low': 2118.0, 'close': 2128.0}, 'change': 0.6343984962406015}]\n",
      "[{'tradable': True, 'mode': 'full', 'instrument_token': 738561, 'last_price': 2561.45, 'last_traded_quantity': 9, 'average_traded_price': 2533.71, 'volume_traded': 3856923, 'total_buy_quantity': 307823, 'total_sell_quantity': 300799, 'ohlc': {'open': 2507.2, 'high': 2563.95, 'low': 2501.0, 'close': 2527.7}, 'change': 1.3352059184238636, 'last_trade_time': datetime.datetime(2022, 6, 29, 11, 50, 54), 'oi': 0, 'oi_day_high': 0, 'oi_day_low': 0, 'exchange_timestamp': datetime.datetime(2022, 6, 29, 11, 50, 55), 'depth': {'buy': [{'quantity': 11, 'price': 2561.45, 'orders': 1}, {'quantity': 5, 'price': 2561.05, 'orders': 2}, {'quantity': 27, 'price': 2560.9, 'orders': 2}, {'quantity': 1, 'price': 2560.85, 'orders': 1}, {'quantity': 52, 'price': 2560.8, 'orders': 1}], 'sell': [{'quantity': 149, 'price': 2561.9, 'orders': 5}, {'quantity': 1, 'price': 2561.95, 'orders': 1}, {'quantity': 922, 'price': 2562.0, 'orders': 5}, {'quantity': 1, 'price': 2562.1, 'orders': 1}, {'quantity': 92, 'price': 2562.15, 'orders': 1}]}}, {'tradable': True, 'mode': 'quote', 'instrument_token': 5633, 'last_price': 2141.55, 'last_traded_quantity': 11, 'average_traded_price': 2139.31, 'volume_traded': 241644, 'total_buy_quantity': 60921, 'total_sell_quantity': 47804, 'ohlc': {'open': 2118.0, 'high': 2148.1, 'low': 2118.0, 'close': 2128.0}, 'change': 0.6367481203007604}]\n",
      "[{'tradable': True, 'mode': 'full', 'instrument_token': 738561, 'last_price': 2561.9, 'last_traded_quantity': 1, 'average_traded_price': 2533.71, 'volume_traded': 3856956, 'total_buy_quantity': 308391, 'total_sell_quantity': 301216, 'ohlc': {'open': 2507.2, 'high': 2563.95, 'low': 2501.0, 'close': 2527.7}, 'change': 1.3530086640028594, 'last_trade_time': datetime.datetime(2022, 6, 29, 11, 50, 56), 'oi': 0, 'oi_day_high': 0, 'oi_day_low': 0, 'exchange_timestamp': datetime.datetime(2022, 6, 29, 11, 50, 56), 'depth': {'buy': [{'quantity': 32, 'price': 2561.45, 'orders': 2}, {'quantity': 10, 'price': 2561.4, 'orders': 1}, {'quantity': 8, 'price': 2561.1, 'orders': 1}, {'quantity': 5, 'price': 2561.05, 'orders': 2}, {'quantity': 2, 'price': 2560.95, 'orders': 2}], 'sell': [{'quantity': 6, 'price': 2561.9, 'orders': 3}, {'quantity': 922, 'price': 2562.0, 'orders': 5}, {'quantity': 2, 'price': 2562.15, 'orders': 2}, {'quantity': 40, 'price': 2562.2, 'orders': 1}, {'quantity': 80, 'price': 2562.3, 'orders': 2}]}}, {'tradable': True, 'mode': 'quote', 'instrument_token': 5633, 'last_price': 2141.55, 'last_traded_quantity': 11, 'average_traded_price': 2139.31, 'volume_traded': 241655, 'total_buy_quantity': 60921, 'total_sell_quantity': 47812, 'ohlc': {'open': 2118.0, 'high': 2148.1, 'low': 2118.0, 'close': 2128.0}, 'change': 0.6367481203007604}]\n",
      "[{'tradable': True, 'mode': 'full', 'instrument_token': 738561, 'last_price': 2561.75, 'last_traded_quantity': 1, 'average_traded_price': 2533.71, 'volume_traded': 3856956, 'total_buy_quantity': 308391, 'total_sell_quantity': 301216, 'ohlc': {'open': 2507.2, 'high': 2563.95, 'low': 2501.0, 'close': 2527.7}, 'change': 1.3470744154765275, 'last_trade_time': datetime.datetime(2022, 6, 29, 11, 50, 56), 'oi': 0, 'oi_day_high': 0, 'oi_day_low': 0, 'exchange_timestamp': datetime.datetime(2022, 6, 29, 11, 50, 56), 'depth': {'buy': [{'quantity': 32, 'price': 2561.45, 'orders': 2}, {'quantity': 10, 'price': 2561.4, 'orders': 1}, {'quantity': 8, 'price': 2561.1, 'orders': 1}, {'quantity': 5, 'price': 2561.05, 'orders': 2}, {'quantity': 2, 'price': 2560.95, 'orders': 2}], 'sell': [{'quantity': 6, 'price': 2561.9, 'orders': 3}, {'quantity': 922, 'price': 2562.0, 'orders': 5}, {'quantity': 2, 'price': 2562.15, 'orders': 2}, {'quantity': 40, 'price': 2562.2, 'orders': 1}, {'quantity': 80, 'price': 2562.3, 'orders': 2}]}}]\n",
      "[{'tradable': True, 'mode': 'full', 'instrument_token': 738561, 'last_price': 2561.45, 'last_traded_quantity': 15, 'average_traded_price': 2533.71, 'volume_traded': 3857087, 'total_buy_quantity': 308376, 'total_sell_quantity': 301435, 'ohlc': {'open': 2507.2, 'high': 2563.95, 'low': 2501.0, 'close': 2527.7}, 'change': 1.3352059184238636, 'last_trade_time': datetime.datetime(2022, 6, 29, 11, 50, 57), 'oi': 0, 'oi_day_high': 0, 'oi_day_low': 0, 'exchange_timestamp': datetime.datetime(2022, 6, 29, 11, 50, 57), 'depth': {'buy': [{'quantity': 21, 'price': 2561.45, 'orders': 3}, {'quantity': 10, 'price': 2561.4, 'orders': 1}, {'quantity': 8, 'price': 2561.1, 'orders': 1}, {'quantity': 1, 'price': 2561.05, 'orders': 1}, {'quantity': 1, 'price': 2561.0, 'orders': 1}], 'sell': [{'quantity': 1, 'price': 2561.85, 'orders': 1}, {'quantity': 84, 'price': 2561.9, 'orders': 6}, {'quantity': 908, 'price': 2562.0, 'orders': 4}, {'quantity': 2, 'price': 2562.15, 'orders': 2}, {'quantity': 40, 'price': 2562.2, 'orders': 1}]}}, {'tradable': True, 'mode': 'quote', 'instrument_token': 5633, 'last_price': 2141.55, 'last_traded_quantity': 11, 'average_traded_price': 2139.31, 'volume_traded': 241655, 'total_buy_quantity': 60921, 'total_sell_quantity': 47808, 'ohlc': {'open': 2118.0, 'high': 2148.1, 'low': 2118.0, 'close': 2128.0}, 'change': 0.6367481203007604}]\n",
      "[{'tradable': True, 'mode': 'full', 'instrument_token': 738561, 'last_price': 2561.7, 'last_traded_quantity': 1, 'average_traded_price': 2533.71, 'volume_traded': 3857139, 'total_buy_quantity': 308493, 'total_sell_quantity': 301245, 'ohlc': {'open': 2507.2, 'high': 2563.95, 'low': 2501.0, 'close': 2527.7}, 'change': 1.3450963326344108, 'last_trade_time': datetime.datetime(2022, 6, 29, 11, 50, 57), 'oi': 0, 'oi_day_high': 0, 'oi_day_low': 0, 'exchange_timestamp': datetime.datetime(2022, 6, 29, 11, 50, 57), 'depth': {'buy': [{'quantity': 1, 'price': 2561.7, 'orders': 1}, {'quantity': 21, 'price': 2561.45, 'orders': 3}, {'quantity': 10, 'price': 2561.4, 'orders': 1}, {'quantity': 9, 'price': 2561.1, 'orders': 2}, {'quantity': 1, 'price': 2561.05, 'orders': 1}], 'sell': [{'quantity': 18, 'price': 2561.85, 'orders': 1}, {'quantity': 68, 'price': 2561.9, 'orders': 5}, {'quantity': 908, 'price': 2562.0, 'orders': 4}, {'quantity': 2, 'price': 2562.15, 'orders': 2}, {'quantity': 40, 'price': 2562.2, 'orders': 1}]}}]\n"
     ]
    },
    {
     "name": "stderr",
     "output_type": "stream",
     "text": [
      "Connection error: 1006 - connection was closed uncleanly (SSL error: unexpected eof while reading (in ))\n",
      "Connection closed: 1006 - connection was closed uncleanly (SSL error: unexpected eof while reading (in ))\n"
     ]
    }
   ],
   "source": [
    "# Assign the callbacks.\n",
    "kws = KiteTicker(token['api_key'], access_token)\n",
    "\n",
    "kws.on_ticks   = on_ticks\n",
    "kws.on_connect = on_connect\n",
    "kws.connect()"
   ]
  },
  {
   "cell_type": "markdown",
   "id": "887eef14",
   "metadata": {},
   "source": [
    "## 5. Placing Price based Orders through Kite\n",
    "\n",
    "- Let’s say after thorough investigation of historical data, it has been been observed that after reaching a certain price, the price increases sharply. In this case, it is profitable if one buys after reaching trigger price and then sell it.\n",
    "\n",
    "- If price of Glenmark rises after it reaches 450 points, one could place buy order for intraday trading as shown below…"
   ]
  },
  {
   "cell_type": "code",
   "execution_count": null,
   "id": "11334d3e",
   "metadata": {},
   "outputs": [],
   "source": [
    "ticker_symbol  = \"NSE:GLENMARK\"\n",
    "trading_symbol = 'GLENMARK'\n",
    "quantity       = 1\n",
    "\n",
    "for i in range(10000):\n",
    "    \n",
    "    ltp = kite.ltp(ticker_symbol)[ticker_symbol][\"last_price\"]\n",
    "   \n",
    "    if ltp >= 450:\n",
    "        kite.place_order(tradingsymbol = trading_symbol,\n",
    "                             exchange  = \"NSE\",\n",
    "                      transaction_type = \"BUY\",\n",
    "                              quantity = quantity,\n",
    "                            order_type = \"MARKET\",\n",
    "                               variety = \"regular\",\n",
    "                               product = \"MIS\")\n",
    "        break\n",
    "        \n",
    "    time.sleep(5)"
   ]
  },
  {
   "cell_type": "markdown",
   "id": "d1b82e33",
   "metadata": {},
   "source": [
    "- In above function, a long for loop is running where its fetching the ltp of Glenmark every 5 seconds. As soon as the if condition is satisfied, i.e. price breaches 450 points, the if statement is executed. Kite’s place_order() function is used to place the BUY order. After place_order() is executed, the loop breaks.\n",
    "\n",
    "- Similarly one can place ‘SELL’ order i.e. short if it is observed that price drops after reaching certain price. “BUY” can be replace with “SELL” in transaction_type in place_order() function to place sell order."
   ]
  },
  {
   "cell_type": "markdown",
   "id": "d8dd52de",
   "metadata": {},
   "source": [
    "## 6. Placing Time based Orders through Kite\n",
    "\n",
    "- Let’s say it is observed that price of the stock falls after 1 p.m. Here too we can modify our code such that order is placed based on time.\n",
    "\n",
    "- If Glenmark price falls after 1 p.m., one can short sell it and place sell order. After some time, it can be bought again to book profit for an intraday trade."
   ]
  },
  {
   "cell_type": "code",
   "execution_count": null,
   "id": "11a76c01",
   "metadata": {},
   "outputs": [],
   "source": [
    "ticker_symbol  = \"NSE:GLENMARK\"\n",
    "trading_symbol = \"GLENMARK\"\n",
    "quantity       = 1\n",
    "\n",
    "#The time at which we want to place order (24 hr format) \n",
    "entry_hour   = 13\n",
    "entry_minute = 00\n",
    "\n",
    "for i in range(1000000):\n",
    "    time = datetime.datetime.now()\n",
    "    \n",
    "    if (time.hour == entry_hour) and (time.minute == entry_minute):\n",
    "        kite.place_order(tradingsymbol = trading_symbol,\n",
    "                             exchange  = \"NSE\",\n",
    "                      transaction_type = \"SELL\",\n",
    "                              quantity = quantity,\n",
    "                            order_type = \"MARKET\",\n",
    "                               variety = \"regular\",\n",
    "                               product = \"MIS\")        \n",
    "        \n",
    "        print('order executed at', f'{entry_hour}:{entry_minute}')\n",
    "        break\n",
    "    time.sleep(5)"
   ]
  },
  {
   "cell_type": "markdown",
   "id": "33a16db7",
   "metadata": {},
   "source": [
    "Above function runs a loop where it check for trigger time every 5 seconds. As soon as it triggers, if condition satisfies and place_order() function is executed and sell order is placed. Buying it again after some time will result in profit if strategy works."
   ]
  }
 ],
 "metadata": {
  "kernelspec": {
   "display_name": "Python 3 (ipykernel)",
   "language": "python",
   "name": "python3"
  },
  "language_info": {
   "codemirror_mode": {
    "name": "ipython",
    "version": 3
   },
   "file_extension": ".py",
   "mimetype": "text/x-python",
   "name": "python",
   "nbconvert_exporter": "python",
   "pygments_lexer": "ipython3",
   "version": "3.9.7"
  }
 },
 "nbformat": 4,
 "nbformat_minor": 5
}
